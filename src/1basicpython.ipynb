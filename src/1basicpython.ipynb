{
 "cells": [
  {
   "cell_type": "markdown",
   "metadata": {},
   "source": [
    "# Simple Introduction in Python"
   ]
  },
  {
   "cell_type": "markdown",
   "metadata": {},
   "source": [
    "## Basic Operation"
   ]
  },
  {
   "cell_type": "markdown",
   "metadata": {},
   "source": [
    "Bahasa python akan langsung melakukan pemrosesan pada data yang dimasukkan"
   ]
  },
  {
   "cell_type": "code",
   "execution_count": null,
   "metadata": {},
   "outputs": [],
   "source": [
    "12 + 2"
   ]
  },
  {
   "cell_type": "markdown",
   "metadata": {},
   "source": [
    "Hasil dari operasi tersebut dapat disimpan ke dalam object (variable). Di bawah ini mencontohkan hasil operasi disimpan ke dalam object bernama `hasil`.\n",
    "\n",
    "Di bawah ini juga mendemonstrasikan untuk penggunaan fungsi `print` yang membutuhkan argumen object untuk di lihat hasilnya."
   ]
  },
  {
   "cell_type": "code",
   "execution_count": null,
   "metadata": {},
   "outputs": [],
   "source": [
    "# melakukan operasi dan menyimpan ke dalam object hasil\n",
    "hasil = 12 + 2 \n",
    "\n",
    "# melihat hasil menggunaan fungsi print\n",
    "print(hasil)"
   ]
  },
  {
   "cell_type": "markdown",
   "metadata": {},
   "source": [
    "## Python Libraries\n",
    "\n",
    "Bahasa pemrograman python memiliki fungsi-fungsi basic saja, untuk operasi yang lebih kompleks seperti fungsi matematika dan pengolahan bahasa, python membutuhkan library. Library merupakan kumpulan fungsi python yang sudah dikembangkan untuk tujuan yang spesifik. Sebagai contoh, library yang banyak digunakan untuk pemrosesan matematika adalah `numpy`."
   ]
  },
  {
   "cell_type": "code",
   "execution_count": null,
   "metadata": {},
   "outputs": [],
   "source": [
    "# membutuhkan fungsi import untuk memanggil library\n",
    "# nama library juga dapat dimasking menggunakan `as`\n",
    "import numpy as np\n",
    "\n",
    "# konstan pada matematika\n",
    "print(np.pi)\n",
    "\n",
    "# fungsi trigonometri\n",
    "angle = np.pi/4\n",
    "print(np.sin(angle))\n",
    "print(np.cos(angle))\n",
    "print(np.tan(angle))"
   ]
  },
  {
   "cell_type": "markdown",
   "metadata": {},
   "source": [
    "## Bekerja dengan `List`\n",
    "\n",
    "`List` merupakan struktur data yang powerful pada python karena dapat digunakan pada berbagai macam situasi."
   ]
  },
  {
   "cell_type": "code",
   "execution_count": null,
   "metadata": {},
   "outputs": [],
   "source": [
    "xList = [1, 2, 3, 4]\n",
    "xList"
   ]
  },
  {
   "cell_type": "markdown",
   "metadata": {},
   "source": [
    "List dapat digabung dengan list lain menggunakan fungsi concantenate built-in"
   ]
  },
  {
   "cell_type": "code",
   "execution_count": null,
   "metadata": {},
   "outputs": [],
   "source": [
    "x = [1, 2, 3, 4]\n",
    "y = [5, 6, 7, 8]\n",
    "\n",
    "x + y"
   ]
  },
  {
   "cell_type": "markdown",
   "metadata": {},
   "source": [
    "List juga kadang dapat berperan seperti array. Berikut adalah contoh fungsi sumasi pada list `x`."
   ]
  },
  {
   "cell_type": "code",
   "execution_count": null,
   "metadata": {},
   "outputs": [],
   "source": [
    "np.sum(x)"
   ]
  },
  {
   "cell_type": "markdown",
   "metadata": {},
   "source": [
    "Iterasi for loop dapat diterapkan pada list, sehingga dapat diiterasi pada setiap element yang ada. "
   ]
  },
  {
   "cell_type": "code",
   "execution_count": null,
   "metadata": {},
   "outputs": [],
   "source": [
    "for x in xList:\n",
    "    print(\"sin({0}) = {1:8.5f}\".format(x, np.sin(x)))"
   ]
  }
 ],
 "metadata": {
  "kernelspec": {
   "display_name": "Python 3.8.12 ('modelling')",
   "language": "python",
   "name": "python3"
  },
  "language_info": {
   "codemirror_mode": {
    "name": "ipython",
    "version": 3
   },
   "file_extension": ".py",
   "mimetype": "text/x-python",
   "name": "python",
   "nbconvert_exporter": "python",
   "pygments_lexer": "ipython3",
   "version": "3.8.12"
  },
  "orig_nbformat": 4,
  "vscode": {
   "interpreter": {
    "hash": "f3152bca2417f63d8c485a5409aeed29ee044bafe7ca7cac97f729f4661248f7"
   }
  }
 },
 "nbformat": 4,
 "nbformat_minor": 2
}
