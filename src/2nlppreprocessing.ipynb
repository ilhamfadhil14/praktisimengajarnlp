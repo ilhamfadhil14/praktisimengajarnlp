{
 "cells": [
  {
   "cell_type": "markdown",
   "metadata": {},
   "source": [
    "# NLP Data Pre-Processing"
   ]
  },
  {
   "cell_type": "markdown",
   "metadata": {},
   "source": [
    "## Setup\n",
    "\n",
    "Library ini akan digunakan untuk melakukan pemrosesan text bahasa indonesia."
   ]
  },
  {
   "cell_type": "code",
   "execution_count": null,
   "metadata": {},
   "outputs": [],
   "source": [
    "!pip install Sastrawi"
   ]
  },
  {
   "cell_type": "markdown",
   "metadata": {},
   "source": [
    "## Load Data\n",
    "\n",
    "Data yang akan digunakan merupakan data twitter yang sudah dikumpulkan sebelumnya dan disimpan ke dalam format `csv`. Data ini di load menggunakan library `pandas`."
   ]
  },
  {
   "cell_type": "code",
   "execution_count": 33,
   "metadata": {},
   "outputs": [
    {
     "data": {
      "text/html": [
       "<div>\n",
       "<style scoped>\n",
       "    .dataframe tbody tr th:only-of-type {\n",
       "        vertical-align: middle;\n",
       "    }\n",
       "\n",
       "    .dataframe tbody tr th {\n",
       "        vertical-align: top;\n",
       "    }\n",
       "\n",
       "    .dataframe thead th {\n",
       "        text-align: right;\n",
       "    }\n",
       "</style>\n",
       "<table border=\"1\" class=\"dataframe\">\n",
       "  <thead>\n",
       "    <tr style=\"text-align: right;\">\n",
       "      <th></th>\n",
       "      <th>Id</th>\n",
       "      <th>Sentiment</th>\n",
       "      <th>Acara TV</th>\n",
       "      <th>Jumlah Retweet</th>\n",
       "      <th>Text Tweet</th>\n",
       "    </tr>\n",
       "  </thead>\n",
       "  <tbody>\n",
       "    <tr>\n",
       "      <th>0</th>\n",
       "      <td>1</td>\n",
       "      <td>positive</td>\n",
       "      <td>HitamPutihTransTV</td>\n",
       "      <td>12</td>\n",
       "      <td>Undang @N_ShaniJKT48 ke hitamputih, pemenang S...</td>\n",
       "    </tr>\n",
       "    <tr>\n",
       "      <th>1</th>\n",
       "      <td>2</td>\n",
       "      <td>positive</td>\n",
       "      <td>HitamPutihTransTV</td>\n",
       "      <td>6</td>\n",
       "      <td>Selamat berbuka puasa Semoga amal ibadah hari ...</td>\n",
       "    </tr>\n",
       "    <tr>\n",
       "      <th>2</th>\n",
       "      <td>3</td>\n",
       "      <td>positive</td>\n",
       "      <td>HitamPutihTransTV</td>\n",
       "      <td>9</td>\n",
       "      <td>Ada nih di trans7 hitam putih, dia dpt penghar...</td>\n",
       "    </tr>\n",
       "    <tr>\n",
       "      <th>3</th>\n",
       "      <td>4</td>\n",
       "      <td>positive</td>\n",
       "      <td>HitamPutihTransTV</td>\n",
       "      <td>2</td>\n",
       "      <td>selamat ya mas @adietaufan masuk hitamputih</td>\n",
       "    </tr>\n",
       "    <tr>\n",
       "      <th>4</th>\n",
       "      <td>5</td>\n",
       "      <td>positive</td>\n",
       "      <td>HitamPutihTransTV</td>\n",
       "      <td>1</td>\n",
       "      <td>Asiknya nonton Hitam Putih Trans7</td>\n",
       "    </tr>\n",
       "    <tr>\n",
       "      <th>5</th>\n",
       "      <td>6</td>\n",
       "      <td>positive</td>\n",
       "      <td>HitamPutihTransTV</td>\n",
       "      <td>2</td>\n",
       "      <td>@TRANS7 acara paling komplit dan menarik apala...</td>\n",
       "    </tr>\n",
       "    <tr>\n",
       "      <th>6</th>\n",
       "      <td>7</td>\n",
       "      <td>positive</td>\n",
       "      <td>HitamPutihTransTV</td>\n",
       "      <td>1</td>\n",
       "      <td>hitam putih T7 inspiratif banget</td>\n",
       "    </tr>\n",
       "    <tr>\n",
       "      <th>7</th>\n",
       "      <td>8</td>\n",
       "      <td>positive</td>\n",
       "      <td>HitamPutihTransTV</td>\n",
       "      <td>3</td>\n",
       "      <td>Suka banget dengan acara hitam putih</td>\n",
       "    </tr>\n",
       "    <tr>\n",
       "      <th>8</th>\n",
       "      <td>9</td>\n",
       "      <td>positive</td>\n",
       "      <td>HitamPutihTransTV</td>\n",
       "      <td>0</td>\n",
       "      <td>Keren lu bro #HitamPutihTrans7</td>\n",
       "    </tr>\n",
       "    <tr>\n",
       "      <th>9</th>\n",
       "      <td>10</td>\n",
       "      <td>positive</td>\n",
       "      <td>HitamPutihTransTV</td>\n",
       "      <td>15</td>\n",
       "      <td>Tadi ada yg liat hitam putih di trans7 ga, Ada...</td>\n",
       "    </tr>\n",
       "    <tr>\n",
       "      <th>10</th>\n",
       "      <td>11</td>\n",
       "      <td>negative</td>\n",
       "      <td>HitamPutihTransTV</td>\n",
       "      <td>0</td>\n",
       "      <td>Hitam putih bego, haruka diundang bentar biar ...</td>\n",
       "    </tr>\n",
       "    <tr>\n",
       "      <th>11</th>\n",
       "      <td>12</td>\n",
       "      <td>negative</td>\n",
       "      <td>HitamPutihTransTV</td>\n",
       "      <td>10</td>\n",
       "      <td>Miris liat pemerintah, Juara angkat berat se-a...</td>\n",
       "    </tr>\n",
       "    <tr>\n",
       "      <th>12</th>\n",
       "      <td>13</td>\n",
       "      <td>negative</td>\n",
       "      <td>HitamPutihTransTV</td>\n",
       "      <td>5</td>\n",
       "      <td>Juara 1 angkat berat Se-Asia, tdk menerima had...</td>\n",
       "    </tr>\n",
       "    <tr>\n",
       "      <th>13</th>\n",
       "      <td>14</td>\n",
       "      <td>negative</td>\n",
       "      <td>HitamPutihTransTV</td>\n",
       "      <td>6</td>\n",
       "      <td>haruka lain kali kalau diundang ke hitam putih...</td>\n",
       "    </tr>\n",
       "    <tr>\n",
       "      <th>14</th>\n",
       "      <td>15</td>\n",
       "      <td>negative</td>\n",
       "      <td>HitamPutihTransTV</td>\n",
       "      <td>0</td>\n",
       "      <td>Berasa aneh nonton acara Hitam Putih tapi peno...</td>\n",
       "    </tr>\n",
       "    <tr>\n",
       "      <th>15</th>\n",
       "      <td>16</td>\n",
       "      <td>negative</td>\n",
       "      <td>HitamPutihTransTV</td>\n",
       "      <td>0</td>\n",
       "      <td>sedih dengar curhatanmu, Roxana. Semoga Tuhan ...</td>\n",
       "    </tr>\n",
       "    <tr>\n",
       "      <th>16</th>\n",
       "      <td>17</td>\n",
       "      <td>negative</td>\n",
       "      <td>HitamPutihTransTV</td>\n",
       "      <td>5</td>\n",
       "      <td>Miris ketika anak Indonesia kesulitan mengguna...</td>\n",
       "    </tr>\n",
       "    <tr>\n",
       "      <th>17</th>\n",
       "      <td>18</td>\n",
       "      <td>negative</td>\n",
       "      <td>HitamPutihTransTV</td>\n",
       "      <td>0</td>\n",
       "      <td>Sombongnya mentang2 kaya pake diumumkan, saya ...</td>\n",
       "    </tr>\n",
       "    <tr>\n",
       "      <th>18</th>\n",
       "      <td>19</td>\n",
       "      <td>negative</td>\n",
       "      <td>HitamPutihTransTV</td>\n",
       "      <td>2</td>\n",
       "      <td>parah banget hitam putih di Trans7. Ngomong se...</td>\n",
       "    </tr>\n",
       "    <tr>\n",
       "      <th>19</th>\n",
       "      <td>20</td>\n",
       "      <td>negative</td>\n",
       "      <td>HitamPutihTransTV</td>\n",
       "      <td>0</td>\n",
       "      <td>Orang bangkrut itu bukan perkara soal uang tet...</td>\n",
       "    </tr>\n",
       "  </tbody>\n",
       "</table>\n",
       "</div>"
      ],
      "text/plain": [
       "    Id Sentiment           Acara TV  Jumlah Retweet  \\\n",
       "0    1  positive  HitamPutihTransTV              12   \n",
       "1    2  positive  HitamPutihTransTV               6   \n",
       "2    3  positive  HitamPutihTransTV               9   \n",
       "3    4  positive  HitamPutihTransTV               2   \n",
       "4    5  positive  HitamPutihTransTV               1   \n",
       "5    6  positive  HitamPutihTransTV               2   \n",
       "6    7  positive  HitamPutihTransTV               1   \n",
       "7    8  positive  HitamPutihTransTV               3   \n",
       "8    9  positive  HitamPutihTransTV               0   \n",
       "9   10  positive  HitamPutihTransTV              15   \n",
       "10  11  negative  HitamPutihTransTV               0   \n",
       "11  12  negative  HitamPutihTransTV              10   \n",
       "12  13  negative  HitamPutihTransTV               5   \n",
       "13  14  negative  HitamPutihTransTV               6   \n",
       "14  15  negative  HitamPutihTransTV               0   \n",
       "15  16  negative  HitamPutihTransTV               0   \n",
       "16  17  negative  HitamPutihTransTV               5   \n",
       "17  18  negative  HitamPutihTransTV               0   \n",
       "18  19  negative  HitamPutihTransTV               2   \n",
       "19  20  negative  HitamPutihTransTV               0   \n",
       "\n",
       "                                           Text Tweet  \n",
       "0   Undang @N_ShaniJKT48 ke hitamputih, pemenang S...  \n",
       "1   Selamat berbuka puasa Semoga amal ibadah hari ...  \n",
       "2   Ada nih di trans7 hitam putih, dia dpt penghar...  \n",
       "3         selamat ya mas @adietaufan masuk hitamputih  \n",
       "4                   Asiknya nonton Hitam Putih Trans7  \n",
       "5   @TRANS7 acara paling komplit dan menarik apala...  \n",
       "6                    hitam putih T7 inspiratif banget  \n",
       "7                Suka banget dengan acara hitam putih  \n",
       "8                      Keren lu bro #HitamPutihTrans7  \n",
       "9   Tadi ada yg liat hitam putih di trans7 ga, Ada...  \n",
       "10  Hitam putih bego, haruka diundang bentar biar ...  \n",
       "11  Miris liat pemerintah, Juara angkat berat se-a...  \n",
       "12  Juara 1 angkat berat Se-Asia, tdk menerima had...  \n",
       "13  haruka lain kali kalau diundang ke hitam putih...  \n",
       "14  Berasa aneh nonton acara Hitam Putih tapi peno...  \n",
       "15  sedih dengar curhatanmu, Roxana. Semoga Tuhan ...  \n",
       "16  Miris ketika anak Indonesia kesulitan mengguna...  \n",
       "17  Sombongnya mentang2 kaya pake diumumkan, saya ...  \n",
       "18  parah banget hitam putih di Trans7. Ngomong se...  \n",
       "19  Orang bangkrut itu bukan perkara soal uang tet...  "
      ]
     },
     "execution_count": 33,
     "metadata": {},
     "output_type": "execute_result"
    }
   ],
   "source": [
    "import pandas as pd\n",
    "\n",
    "# load data dari file csv\n",
    "data = pd.read_csv('../data/mini_dataset.csv')\n",
    "\n",
    "data"
   ]
  },
  {
   "cell_type": "markdown",
   "metadata": {},
   "source": [
    "Pada data ini terdapat 5 kolom yaitu:\n",
    "\n",
    "| Nama Kolom | Keterangan |\n",
    "| ---------- | ---------- | \n",
    "|**`Id`** | Id data tweet |\n",
    "|**`Sentiment`** | Label sentiment untuk training data |\n",
    "|**`Jumlah Retweet`** | Jumlah data retweet per tweet |\n",
    "|**`Text Tweet`** | Data text tweet yang diambil |"
   ]
  },
  {
   "cell_type": "code",
   "execution_count": 7,
   "metadata": {},
   "outputs": [
    {
     "data": {
      "text/plain": [
       "'Undang @N_ShaniJKT48 ke hitamputih, pemenang SSK JKT48 harusnya mJKT48 ini lebih Layak di Undang karena prestasinya'"
      ]
     },
     "execution_count": 7,
     "metadata": {},
     "output_type": "execute_result"
    }
   ],
   "source": [
    "# melihat data pada index 0\n",
    "data['Text Tweet'][0]"
   ]
  },
  {
   "cell_type": "code",
   "execution_count": 4,
   "metadata": {},
   "outputs": [
    {
     "data": {
      "text/plain": [
       "0     Undang @N_ShaniJKT48 ke hitamputih, pemenang S...\n",
       "1     Selamat berbuka puasa Semoga amal ibadah hari ...\n",
       "2     Ada nih di trans7 hitam putih, dia dpt penghar...\n",
       "3           selamat ya mas @adietaufan masuk hitamputih\n",
       "4                     Asiknya nonton Hitam Putih Trans7\n",
       "5     @TRANS7 acara paling komplit dan menarik apala...\n",
       "6                      hitam putih T7 inspiratif banget\n",
       "7                  Suka banget dengan acara hitam putih\n",
       "8                        Keren lu bro #HitamPutihTrans7\n",
       "9     Tadi ada yg liat hitam putih di trans7 ga, Ada...\n",
       "10    Hitam putih bego, haruka diundang bentar biar ...\n",
       "11    Miris liat pemerintah, Juara angkat berat se-a...\n",
       "12    Juara 1 angkat berat Se-Asia, tdk menerima had...\n",
       "13    haruka lain kali kalau diundang ke hitam putih...\n",
       "14    Berasa aneh nonton acara Hitam Putih tapi peno...\n",
       "15    sedih dengar curhatanmu, Roxana. Semoga Tuhan ...\n",
       "16    Miris ketika anak Indonesia kesulitan mengguna...\n",
       "17    Sombongnya mentang2 kaya pake diumumkan, saya ...\n",
       "18    parah banget hitam putih di Trans7. Ngomong se...\n",
       "19    Orang bangkrut itu bukan perkara soal uang tet...\n",
       "Name: Text Tweet, dtype: object"
      ]
     },
     "execution_count": 4,
     "metadata": {},
     "output_type": "execute_result"
    }
   ],
   "source": [
    "TextTweet = data['Text Tweet']\n",
    "\n",
    "TextTweet"
   ]
  },
  {
   "cell_type": "markdown",
   "metadata": {},
   "source": [
    "## Remove URL, Hashtag, Mention Emoji\n",
    "\n",
    "Informasi URL, hastag, dan emoji merupakan informasi yang tidak banyak digunakan di dalam analsis. Sehingga dapat dihapus dari text yang kita miliki."
   ]
  },
  {
   "cell_type": "code",
   "execution_count": 25,
   "metadata": {},
   "outputs": [
    {
     "data": {
      "text/plain": [
       "'Undang ke hitamputih, pemenang SSK JKT48 harusnya mJKT48 ini lebih Layak di Undang karena prestasinya'"
      ]
     },
     "execution_count": 25,
     "metadata": {},
     "output_type": "execute_result"
    }
   ],
   "source": [
    "# import library yang digunakan untuk cleansing\n",
    "import preprocessor as p\n",
    "\n",
    "# membuat list kosong untuk menyimpan hasil\n",
    "clean_text = []\n",
    "\n",
    "# membuat for loop untuk melakukan cleansing pada setiap elemen\n",
    "for text in TextTweet:\n",
    "    clean_text.append(p.clean(text))\n",
    "\n",
    "# melihat hasil cleansing\n",
    "clean_text[0]"
   ]
  },
  {
   "cell_type": "markdown",
   "metadata": {},
   "source": [
    "## Lowercasing\n",
    "\n",
    "Dalam analisis data, besar kecil merupakan hal yang sensitif, sehingga penting untuk melakukan penyeragaman pada besar kecil huruf data text."
   ]
  },
  {
   "cell_type": "code",
   "execution_count": 11,
   "metadata": {},
   "outputs": [
    {
     "data": {
      "text/plain": [
       "'undang ke hitamputih, pemenang ssk jkt48 harusnya mjkt48 ini lebih layak di undang karena prestasinya'"
      ]
     },
     "execution_count": 11,
     "metadata": {},
     "output_type": "execute_result"
    }
   ],
   "source": [
    "# membuat list kosong untuk menyimpan hasil \n",
    "lower_text = []\n",
    "\n",
    "# membuat loop untuk melakukan penyeragaman elemen\n",
    "for text in clean_text:\n",
    "    lower_text.append(text.lower())\n",
    "\n",
    "# melihat hasil cleansing\n",
    "lower_text[0]"
   ]
  },
  {
   "cell_type": "markdown",
   "metadata": {},
   "source": [
    "## Remove Stopwords\n",
    "\n",
    "Tidak semua kata memiliki makna, pada kata yang tidak memiliki makna berarti dapat dihilangkan untuk dapat membuat analisis menjadi lebih sederhana."
   ]
  },
  {
   "cell_type": "code",
   "execution_count": 41,
   "metadata": {},
   "outputs": [
    {
     "name": "stdout",
     "output_type": "stream",
     "text": [
      "['yang', 'untuk', 'pada', 'ke', 'para', 'namun', 'menurut', 'antara', 'dia', 'dua', 'ia', 'seperti', 'jika', 'jika', 'sehingga', 'kembali', 'dan', 'tidak', 'ini', 'karena', 'kepada', 'oleh', 'saat', 'harus', 'sementara', 'setelah', 'belum', 'kami', 'sekitar', 'bagi', 'serta', 'di', 'dari', 'telah', 'sebagai', 'masih', 'hal', 'ketika', 'adalah', 'itu', 'dalam', 'bisa', 'bahwa', 'atau', 'hanya', 'kita', 'dengan', 'akan', 'juga', 'ada', 'mereka', 'sudah', 'saya', 'terhadap', 'secara', 'agar', 'lain', 'anda', 'begitu', 'mengapa', 'kenapa', 'yaitu', 'yakni', 'daripada', 'itulah', 'lagi', 'maka', 'tentang', 'demi', 'dimana', 'kemana', 'pula', 'sambil', 'sebelum', 'sesudah', 'supaya', 'guna', 'kah', 'pun', 'sampai', 'sedangkan', 'selagi', 'sementara', 'tetapi', 'apakah', 'kecuali', 'sebab', 'selain', 'seolah', 'seraya', 'seterusnya', 'tanpa', 'agak', 'boleh', 'dapat', 'dsb', 'dst', 'dll', 'dahulu', 'dulunya', 'anu', 'demikian', 'tapi', 'ingin', 'juga', 'nggak', 'mari', 'nanti', 'melainkan', 'oh', 'ok', 'seharusnya', 'sebetulnya', 'setiap', 'setidaknya', 'sesuatu', 'pasti', 'saja', 'toh', 'ya', 'walau', 'tolong', 'tentu', 'amat', 'apalagi', 'bagaimanapun']\n"
     ]
    }
   ],
   "source": [
    "# import library untuk menghilangkan stopword\n",
    "from Sastrawi.StopWordRemover.StopWordRemoverFactory import StopWordRemoverFactory, ArrayDictionary, StopWordRemover\n",
    "\n",
    "# membuat object untuk menghilankan stopwords\n",
    "stop_factory = StopWordRemoverFactory()\n",
    "\n",
    "# melihat kata-kata yang terdapat pada stopwords\n",
    "print(stop_factory.get_stop_words())"
   ]
  },
  {
   "cell_type": "code",
   "execution_count": 72,
   "metadata": {},
   "outputs": [
    {
     "data": {
      "text/plain": [
       "'undang hitamputih, pemenang ssk jkt48 harusnya mjkt48 lebih layak undang prestasinya'"
      ]
     },
     "execution_count": 72,
     "metadata": {},
     "output_type": "execute_result"
    }
   ],
   "source": [
    "# membuat objek stopwords\n",
    "stopword = stop_factory.create_stop_word_remover()\n",
    "\n",
    "# membuat list kosong untuk menyimpan hasil\n",
    "no_stopwords_text = []\n",
    "\n",
    "# membuit loop untuk menghilangkan stopwords\n",
    "for text in lower_text:\n",
    "    no_stopwords_text.append(stopword.remove(text))\n",
    "\n",
    "# melihat hasil\n",
    "no_stopwords_text[0]"
   ]
  },
  {
   "cell_type": "markdown",
   "metadata": {},
   "source": [
    "Jika ada kata-kata yang secara custom mau dimasukkan bisa menambahkan ke dalam dictionary secara manual"
   ]
  },
  {
   "cell_type": "code",
   "execution_count": 73,
   "metadata": {},
   "outputs": [
    {
     "name": "stdout",
     "output_type": "stream",
     "text": [
      "ke hitamputih, pemenang ssk jkt48 harusnya mjkt48 lebih layak undang prestasinya\n"
     ]
    }
   ],
   "source": [
    "# menambahkan kata yang ingin dihilangkan\n",
    "more_stopwords = ['undang']\n",
    "\n",
    "# membuat stopwords yang digabungkan dengan dictionary yang sudah ada\n",
    "data = stop_factory.get_stop_words() + more_stopwords\n",
    "dictionary_stop = ArrayDictionary(data)\n",
    "str = StopWordRemover(dictionary_stop)\n",
    "\n",
    "# melihat hasil\n",
    "print(str.remove(lower_text[0]))"
   ]
  },
  {
   "cell_type": "markdown",
   "metadata": {},
   "source": [
    "## Remove Punctuation"
   ]
  },
  {
   "cell_type": "code",
   "execution_count": 20,
   "metadata": {},
   "outputs": [],
   "source": [
    "# import untuk ReGex\n",
    "import re\n",
    "\n",
    "# membuat fungsi regex untuk menhapus tanda baca\n",
    "def remove_punct(text):\n",
    "    clean_text = re.sub(r'[^\\w\\s]', '', text)\n",
    "    return clean_text"
   ]
  },
  {
   "cell_type": "code",
   "execution_count": 21,
   "metadata": {},
   "outputs": [
    {
     "data": {
      "text/plain": [
       "'sekarang hari senin'"
      ]
     },
     "execution_count": 21,
     "metadata": {},
     "output_type": "execute_result"
    }
   ],
   "source": [
    "remove_punct(\"?><:<:<:sekarang ha@ri se^^nin\")"
   ]
  },
  {
   "cell_type": "code",
   "execution_count": 74,
   "metadata": {},
   "outputs": [
    {
     "data": {
      "text/plain": [
       "'undang hitamputih pemenang ssk jkt48 harusnya mjkt48 lebih layak undang prestasinya'"
      ]
     },
     "execution_count": 74,
     "metadata": {},
     "output_type": "execute_result"
    }
   ],
   "source": [
    "# membuat list kosong untuk menyimpan hasil\n",
    "no_punct_text=[]\n",
    "\n",
    "# membuat loop untuk menghapus tanda pada baca pada setiap elemen\n",
    "for text in no_stopwords_text:\n",
    "    no_punct_text.append(remove_punct(text))\n",
    "\n",
    "# melihat hasil\n",
    "no_punct_text[0]"
   ]
  },
  {
   "cell_type": "markdown",
   "metadata": {},
   "source": [
    "## Stemming\n",
    "\n",
    "Kata dengan imbuhan menambah kompleksitas pada analisis data, terutama jika menggunakan fitur yang perlu melakukan word count. Hal ini dapat diatasi dengan mengembalikan kata ke dalam bentuk kata dasar."
   ]
  },
  {
   "cell_type": "code",
   "execution_count": 75,
   "metadata": {},
   "outputs": [
    {
     "name": "stdout",
     "output_type": "stream",
     "text": [
      "ekonomi indonesia sedang dalam tumbuh yang bangga mana pempek ada adalah barang export nomor 1\n"
     ]
    }
   ],
   "source": [
    "# import library untuk mengembalikan ke dalam bentuk kata dasar\n",
    "from Sastrawi.Stemmer.StemmerFactory import StemmerFactory\n",
    "\n",
    "# membuat fungsi untuk stemming\n",
    "factory = StemmerFactory()\n",
    "stemmer = factory.create_stemmer()\n",
    "\n",
    "# contoh menggunakan stemming\n",
    "sentence = 'Perekonomian Indonesia sedang dalam pertumbuhan yang membanggakan dimana pempek adaan adalah barang export nomor 1'\n",
    "output = stemmer.stem(sentence)\n",
    "print(output)"
   ]
  },
  {
   "cell_type": "code",
   "execution_count": 76,
   "metadata": {},
   "outputs": [
    {
     "data": {
      "text/plain": [
       "'undang hitamputih menang ssk jkt48 harus mjkt48 lebih layak undang prestasi'"
      ]
     },
     "execution_count": 76,
     "metadata": {},
     "output_type": "execute_result"
    }
   ],
   "source": [
    "# membuat list kosong untuk menyimpan hasil\n",
    "stemmed_text = []\n",
    "\n",
    "# melakukan looping untuk melakukan stemming pada setiap elemen\n",
    "for text in no_punct_text:\n",
    "    stemmed_text.append(stemmer.stem(text))\n",
    "\n",
    "# melihat hasil stemming\n",
    "stemmed_text[0]"
   ]
  },
  {
   "cell_type": "markdown",
   "metadata": {},
   "source": [
    "## Tokenize\n",
    "\n",
    "Unit data yang text yang diperoleh biasanya di tingkat paragraf atau kalimat. Unit level tersebut terlalu besar untuk dilakukan analisis sehingga perlu di pisahkan berdasarkan spasi, hingga dapat dilakukan analisis pada tingkat kata."
   ]
  },
  {
   "cell_type": "code",
   "execution_count": 31,
   "metadata": {},
   "outputs": [
    {
     "data": {
      "text/plain": [
       "['undang',\n",
       " 'hitamputih',\n",
       " 'menang',\n",
       " 'ssk',\n",
       " 'jkt48',\n",
       " 'harus',\n",
       " 'mjkt48',\n",
       " 'lebih',\n",
       " 'layak',\n",
       " 'undang',\n",
       " 'prestasi']"
      ]
     },
     "execution_count": 31,
     "metadata": {},
     "output_type": "execute_result"
    }
   ],
   "source": [
    "# membuat list kosong untuk menyimpan hasil\n",
    "token = []\n",
    "\n",
    "# membuat loop untuk melakukan tokenisasi pada setiap elemen\n",
    "for text in stemmed_text:\n",
    "    token.append(text.split())\n",
    "\n",
    "# melihat hasil tokenisasi\n",
    "token[0]"
   ]
  }
 ],
 "metadata": {
  "kernelspec": {
   "display_name": "Python 3.8.12 ('modelling')",
   "language": "python",
   "name": "python3"
  },
  "language_info": {
   "codemirror_mode": {
    "name": "ipython",
    "version": 3
   },
   "file_extension": ".py",
   "mimetype": "text/x-python",
   "name": "python",
   "nbconvert_exporter": "python",
   "pygments_lexer": "ipython3",
   "version": "3.8.12"
  },
  "orig_nbformat": 4,
  "vscode": {
   "interpreter": {
    "hash": "f3152bca2417f63d8c485a5409aeed29ee044bafe7ca7cac97f729f4661248f7"
   }
  }
 },
 "nbformat": 4,
 "nbformat_minor": 2
}
